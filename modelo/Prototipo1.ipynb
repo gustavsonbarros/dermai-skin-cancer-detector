{
 "cells": [
  {
   "cell_type": "code",
   "execution_count": 1,
   "id": "c424946e",
   "metadata": {
    "scrolled": true
   },
   "outputs": [
    {
     "name": "stdout",
     "output_type": "stream",
     "text": [
      "Requirement already satisfied: numpy in /home/gustavson-barros/anaconda3/lib/python3.11/site-packages (1.26.4)\n",
      "Requirement already satisfied: pandas in /home/gustavson-barros/anaconda3/lib/python3.11/site-packages (2.2.3)\n",
      "Requirement already satisfied: matplotlib in /home/gustavson-barros/anaconda3/lib/python3.11/site-packages (3.10.0)\n",
      "Requirement already satisfied: scikit-learn in /home/gustavson-barros/anaconda3/lib/python3.11/site-packages (1.6.1)\n",
      "Requirement already satisfied: tensorflow in /home/gustavson-barros/anaconda3/lib/python3.11/site-packages (2.19.0)\n",
      "Requirement already satisfied: keras in /home/gustavson-barros/anaconda3/lib/python3.11/site-packages (3.9.2)\n",
      "Requirement already satisfied: opencv-python in /home/gustavson-barros/anaconda3/lib/python3.11/site-packages (4.11.0.86)\n",
      "Requirement already satisfied: python-dateutil>=2.8.2 in /home/gustavson-barros/anaconda3/lib/python3.11/site-packages (from pandas) (2.9.0.post0)\n",
      "Requirement already satisfied: pytz>=2020.1 in /home/gustavson-barros/anaconda3/lib/python3.11/site-packages (from pandas) (2024.1)\n",
      "Requirement already satisfied: tzdata>=2022.7 in /home/gustavson-barros/anaconda3/lib/python3.11/site-packages (from pandas) (2025.2)\n",
      "Requirement already satisfied: contourpy>=1.0.1 in /home/gustavson-barros/anaconda3/lib/python3.11/site-packages (from matplotlib) (1.3.1)\n",
      "Requirement already satisfied: cycler>=0.10 in /home/gustavson-barros/anaconda3/lib/python3.11/site-packages (from matplotlib) (0.11.0)\n",
      "Requirement already satisfied: fonttools>=4.22.0 in /home/gustavson-barros/anaconda3/lib/python3.11/site-packages (from matplotlib) (4.57.0)\n",
      "Requirement already satisfied: kiwisolver>=1.3.1 in /home/gustavson-barros/anaconda3/lib/python3.11/site-packages (from matplotlib) (1.4.8)\n",
      "Requirement already satisfied: packaging>=20.0 in /home/gustavson-barros/anaconda3/lib/python3.11/site-packages (from matplotlib) (24.2)\n",
      "Requirement already satisfied: pillow>=8 in /home/gustavson-barros/anaconda3/lib/python3.11/site-packages (from matplotlib) (11.1.0)\n",
      "Requirement already satisfied: pyparsing>=2.3.1 in /home/gustavson-barros/anaconda3/lib/python3.11/site-packages (from matplotlib) (3.2.0)\n",
      "Requirement already satisfied: scipy>=1.6.0 in /home/gustavson-barros/anaconda3/lib/python3.11/site-packages (from scikit-learn) (1.15.2)\n",
      "Requirement already satisfied: joblib>=1.2.0 in /home/gustavson-barros/anaconda3/lib/python3.11/site-packages (from scikit-learn) (1.4.2)\n",
      "Requirement already satisfied: threadpoolctl>=3.1.0 in /home/gustavson-barros/anaconda3/lib/python3.11/site-packages (from scikit-learn) (3.5.0)\n",
      "Requirement already satisfied: absl-py>=1.0.0 in /home/gustavson-barros/anaconda3/lib/python3.11/site-packages (from tensorflow) (2.2.2)\n",
      "Requirement already satisfied: astunparse>=1.6.0 in /home/gustavson-barros/anaconda3/lib/python3.11/site-packages (from tensorflow) (1.6.3)\n",
      "Requirement already satisfied: flatbuffers>=24.3.25 in /home/gustavson-barros/anaconda3/lib/python3.11/site-packages (from tensorflow) (25.2.10)\n",
      "Requirement already satisfied: gast!=0.5.0,!=0.5.1,!=0.5.2,>=0.2.1 in /home/gustavson-barros/anaconda3/lib/python3.11/site-packages (from tensorflow) (0.6.0)\n",
      "Requirement already satisfied: google-pasta>=0.1.1 in /home/gustavson-barros/anaconda3/lib/python3.11/site-packages (from tensorflow) (0.2.0)\n",
      "Requirement already satisfied: libclang>=13.0.0 in /home/gustavson-barros/anaconda3/lib/python3.11/site-packages (from tensorflow) (18.1.1)\n",
      "Requirement already satisfied: opt-einsum>=2.3.2 in /home/gustavson-barros/anaconda3/lib/python3.11/site-packages (from tensorflow) (3.4.0)\n",
      "Requirement already satisfied: protobuf!=4.21.0,!=4.21.1,!=4.21.2,!=4.21.3,!=4.21.4,!=4.21.5,<6.0.0dev,>=3.20.3 in /home/gustavson-barros/anaconda3/lib/python3.11/site-packages (from tensorflow) (4.25.7)\n",
      "Requirement already satisfied: requests<3,>=2.21.0 in /home/gustavson-barros/anaconda3/lib/python3.11/site-packages (from tensorflow) (2.32.3)\n",
      "Requirement already satisfied: setuptools in /home/gustavson-barros/anaconda3/lib/python3.11/site-packages (from tensorflow) (72.1.0)\n",
      "Requirement already satisfied: six>=1.12.0 in /home/gustavson-barros/anaconda3/lib/python3.11/site-packages (from tensorflow) (1.17.0)\n",
      "Requirement already satisfied: termcolor>=1.1.0 in /home/gustavson-barros/anaconda3/lib/python3.11/site-packages (from tensorflow) (3.0.1)\n",
      "Requirement already satisfied: typing-extensions>=3.6.6 in /home/gustavson-barros/anaconda3/lib/python3.11/site-packages (from tensorflow) (4.12.2)\n",
      "Requirement already satisfied: wrapt>=1.11.0 in /home/gustavson-barros/anaconda3/lib/python3.11/site-packages (from tensorflow) (1.17.0)\n",
      "Requirement already satisfied: grpcio<2.0,>=1.24.3 in /home/gustavson-barros/anaconda3/lib/python3.11/site-packages (from tensorflow) (1.71.0)\n",
      "Requirement already satisfied: tensorboard~=2.19.0 in /home/gustavson-barros/anaconda3/lib/python3.11/site-packages (from tensorflow) (2.19.0)\n",
      "Requirement already satisfied: h5py>=3.11.0 in /home/gustavson-barros/anaconda3/lib/python3.11/site-packages (from tensorflow) (3.12.1)\n",
      "Requirement already satisfied: ml-dtypes<1.0.0,>=0.5.1 in /home/gustavson-barros/anaconda3/lib/python3.11/site-packages (from tensorflow) (0.5.1)\n",
      "Requirement already satisfied: tensorflow-io-gcs-filesystem>=0.23.1 in /home/gustavson-barros/anaconda3/lib/python3.11/site-packages (from tensorflow) (0.37.1)\n",
      "Requirement already satisfied: charset-normalizer<4,>=2 in /home/gustavson-barros/anaconda3/lib/python3.11/site-packages (from requests<3,>=2.21.0->tensorflow) (3.3.2)\n",
      "Requirement already satisfied: idna<4,>=2.5 in /home/gustavson-barros/anaconda3/lib/python3.11/site-packages (from requests<3,>=2.21.0->tensorflow) (3.7)\n",
      "Requirement already satisfied: urllib3<3,>=1.21.1 in /home/gustavson-barros/anaconda3/lib/python3.11/site-packages (from requests<3,>=2.21.0->tensorflow) (2.3.0)\n",
      "Requirement already satisfied: certifi>=2017.4.17 in /home/gustavson-barros/anaconda3/lib/python3.11/site-packages (from requests<3,>=2.21.0->tensorflow) (2025.4.26)\n",
      "Requirement already satisfied: markdown>=2.6.8 in /home/gustavson-barros/anaconda3/lib/python3.11/site-packages (from tensorboard~=2.19.0->tensorflow) (3.8)\n",
      "Requirement already satisfied: tensorboard-data-server<0.8.0,>=0.7.0 in /home/gustavson-barros/anaconda3/lib/python3.11/site-packages (from tensorboard~=2.19.0->tensorflow) (0.7.2)\n",
      "Requirement already satisfied: werkzeug>=1.0.1 in /home/gustavson-barros/anaconda3/lib/python3.11/site-packages (from tensorboard~=2.19.0->tensorflow) (3.1.3)\n",
      "Requirement already satisfied: rich in /home/gustavson-barros/anaconda3/lib/python3.11/site-packages (from keras) (14.0.0)\n",
      "Requirement already satisfied: namex in /home/gustavson-barros/anaconda3/lib/python3.11/site-packages (from keras) (0.0.8)\n",
      "Requirement already satisfied: optree in /home/gustavson-barros/anaconda3/lib/python3.11/site-packages (from keras) (0.15.0)\n",
      "Requirement already satisfied: wheel<1.0,>=0.23.0 in /home/gustavson-barros/anaconda3/lib/python3.11/site-packages (from astunparse>=1.6.0->tensorflow) (0.45.1)\n",
      "Requirement already satisfied: MarkupSafe>=2.1.1 in /home/gustavson-barros/anaconda3/lib/python3.11/site-packages (from werkzeug>=1.0.1->tensorboard~=2.19.0->tensorflow) (3.0.2)\n",
      "Requirement already satisfied: markdown-it-py>=2.2.0 in /home/gustavson-barros/anaconda3/lib/python3.11/site-packages (from rich->keras) (2.2.0)\n",
      "Requirement already satisfied: pygments<3.0.0,>=2.13.0 in /home/gustavson-barros/anaconda3/lib/python3.11/site-packages (from rich->keras) (2.19.1)\n",
      "Requirement already satisfied: mdurl~=0.1 in /home/gustavson-barros/anaconda3/lib/python3.11/site-packages (from markdown-it-py>=2.2.0->rich->keras) (0.1.0)\n"
     ]
    }
   ],
   "source": [
    "!pip install numpy pandas matplotlib scikit-learn tensorflow keras opencv-python \n"
   ]
  },
  {
   "cell_type": "code",
   "execution_count": 14,
   "id": "5384b390",
   "metadata": {},
   "outputs": [],
   "source": [
    "import os\n",
    "import cv2\n",
    "import numpy as np\n",
    "import pandas as pd\n",
    "import matplotlib.pyplot as plt\n",
    "from sklearn.model_selection import train_test_split\n",
    "from sklearn.preprocessing import LabelEncoder\n",
    "from tensorflow.keras.models import Sequential\n",
    "from tensorflow.keras.layers import Conv2D, MaxPooling2D, Flatten, Dense\n",
    "from tensorflow.keras.utils import to_categorical\n",
    "from tensorflow.keras.models import Sequential\n",
    "from tensorflow.keras.layers import Input, Conv2D, MaxPooling2D, Flatten, Dense"
   ]
  },
  {
   "cell_type": "code",
   "execution_count": 15,
   "id": "59dd6a5b",
   "metadata": {},
   "outputs": [],
   "source": [
    "CAMINHO_IMAGENS = \"/home/gustavson-barros/Área de trabalho/ProjetoDeExtensao/dataset/archive/ham10000_images_part_1\"\n",
    "\n",
    "CAMINHO_CSV = \"/home/gustavson-barros/Área de trabalho/ProjetoDeExtensao/dataset/archive/HAM10000_metadata.csv\"\n",
    "\n",
    "df = pd.read_csv(CAMINHO_CSV)\n",
    "df = df[:1000]  # apenas 100 para testar\n",
    "\n",
    "IMG_SIZE = 128\n",
    "\n"
   ]
  },
  {
   "cell_type": "code",
   "execution_count": 16,
   "id": "d0405f62",
   "metadata": {},
   "outputs": [],
   "source": [
    "imagens = []\n",
    "labels = []\n",
    "\n",
    "for index, row in df.iterrows():\n",
    "    nome_arquivo = row[\"image_id\"] + \".jpg\"\n",
    "    classe = row[\"dx\"]  \n",
    "\n",
    "    caminho_completo = os.path.join(CAMINHO_IMAGENS, nome_arquivo)\n",
    "    \n",
    "    \n",
    "    if os.path.exists(caminho_completo):\n",
    "        img = cv2.imread(caminho_completo)\n",
    "        img = cv2.resize(img, (IMG_SIZE, IMG_SIZE))\n",
    "        imagens.append(img)\n",
    "        labels.append(classe)\n",
    "\n",
    "\n",
    "X = np.array(imagens) / 255.0  \n",
    "y = np.array(labels)\n",
    "\n",
    "le = LabelEncoder()\n",
    "y_encoded = le.fit_transform(y)\n",
    "y_categ = to_categorical(y_encoded)"
   ]
  },
  {
   "cell_type": "code",
   "execution_count": 52,
   "id": "6d5f029e",
   "metadata": {},
   "outputs": [],
   "source": [
    "#treino e teste\n",
    "\n",
    "X_train, X_test, y_train, y_test = train_test_split(X, y_categ, test_size=0.2, random_state=42)"
   ]
  },
  {
   "cell_type": "code",
   "execution_count": 53,
   "id": "e63239a5",
   "metadata": {},
   "outputs": [],
   "source": [
    "# Criação da CNN simples\n",
    "\n",
    "modelo = Sequential()\n",
    "modelo.add(Input(shape=(IMG_SIZE, IMG_SIZE, 3)))  \n",
    "modelo.add(Conv2D(32, (3, 3), activation='relu'))\n",
    "modelo.add(MaxPooling2D((2, 2)))\n",
    "modelo.add(Flatten())\n",
    "modelo.add(Dense(64, activation='relu'))\n",
    "modelo.add(Dense(y_categ.shape[1], activation='softmax'))\n"
   ]
  },
  {
   "cell_type": "code",
   "execution_count": 54,
   "id": "cacad25f",
   "metadata": {},
   "outputs": [],
   "source": [
    "modelo.compile(optimizer='adam', loss='categorical_crossentropy', metrics=['accuracy'])"
   ]
  },
  {
   "cell_type": "code",
   "execution_count": 55,
   "id": "13aaf20e",
   "metadata": {},
   "outputs": [
    {
     "name": "stdout",
     "output_type": "stream",
     "text": [
      "Epoch 1/10\n",
      "\u001b[1m13/13\u001b[0m \u001b[32m━━━━━━━━━━━━━━━━━━━━\u001b[0m\u001b[37m\u001b[0m \u001b[1m8s\u001b[0m 294ms/step - accuracy: 0.8590 - loss: 0.9398 - val_accuracy: 1.0000 - val_loss: 0.0000e+00\n",
      "Epoch 2/10\n",
      "\u001b[1m13/13\u001b[0m \u001b[32m━━━━━━━━━━━━━━━━━━━━\u001b[0m\u001b[37m\u001b[0m \u001b[1m3s\u001b[0m 221ms/step - accuracy: 0.9978 - loss: 0.8563 - val_accuracy: 1.0000 - val_loss: 0.0000e+00\n",
      "Epoch 3/10\n",
      "\u001b[1m13/13\u001b[0m \u001b[32m━━━━━━━━━━━━━━━━━━━━\u001b[0m\u001b[37m\u001b[0m \u001b[1m3s\u001b[0m 236ms/step - accuracy: 0.9961 - loss: 1.2163 - val_accuracy: 1.0000 - val_loss: 0.0000e+00\n",
      "Epoch 4/10\n",
      "\u001b[1m13/13\u001b[0m \u001b[32m━━━━━━━━━━━━━━━━━━━━\u001b[0m\u001b[37m\u001b[0m \u001b[1m3s\u001b[0m 241ms/step - accuracy: 0.9988 - loss: 0.2291 - val_accuracy: 1.0000 - val_loss: 0.0000e+00\n",
      "Epoch 5/10\n",
      "\u001b[1m13/13\u001b[0m \u001b[32m━━━━━━━━━━━━━━━━━━━━\u001b[0m\u001b[37m\u001b[0m \u001b[1m3s\u001b[0m 226ms/step - accuracy: 0.9988 - loss: 0.1554 - val_accuracy: 1.0000 - val_loss: 0.0000e+00\n",
      "Epoch 6/10\n",
      "\u001b[1m13/13\u001b[0m \u001b[32m━━━━━━━━━━━━━━━━━━━━\u001b[0m\u001b[37m\u001b[0m \u001b[1m3s\u001b[0m 251ms/step - accuracy: 0.9949 - loss: 0.4864 - val_accuracy: 1.0000 - val_loss: 0.0000e+00\n",
      "Epoch 7/10\n",
      "\u001b[1m13/13\u001b[0m \u001b[32m━━━━━━━━━━━━━━━━━━━━\u001b[0m\u001b[37m\u001b[0m \u001b[1m3s\u001b[0m 230ms/step - accuracy: 0.9978 - loss: 0.0942 - val_accuracy: 1.0000 - val_loss: 0.0000e+00\n",
      "Epoch 8/10\n",
      "\u001b[1m13/13\u001b[0m \u001b[32m━━━━━━━━━━━━━━━━━━━━\u001b[0m\u001b[37m\u001b[0m \u001b[1m3s\u001b[0m 225ms/step - accuracy: 0.9993 - loss: 0.0189 - val_accuracy: 1.0000 - val_loss: 2.3606e-09\n",
      "Epoch 9/10\n",
      "\u001b[1m13/13\u001b[0m \u001b[32m━━━━━━━━━━━━━━━━━━━━\u001b[0m\u001b[37m\u001b[0m \u001b[1m3s\u001b[0m 215ms/step - accuracy: 0.9982 - loss: 0.0259 - val_accuracy: 1.0000 - val_loss: 2.5154e-04\n",
      "Epoch 10/10\n",
      "\u001b[1m13/13\u001b[0m \u001b[32m━━━━━━━━━━━━━━━━━━━━\u001b[0m\u001b[37m\u001b[0m \u001b[1m3s\u001b[0m 222ms/step - accuracy: 0.9974 - loss: 0.0230 - val_accuracy: 1.0000 - val_loss: 0.0051\n"
     ]
    }
   ],
   "source": [
    "hist = modelo.fit(X_train, y_train, epochs=10, validation_data=(X_test, y_test))\n"
   ]
  },
  {
   "cell_type": "code",
   "execution_count": 12,
   "id": "8657d782",
   "metadata": {},
   "outputs": [],
   "source": [
    "def prever_imagem(caminho_img):\n",
    "    img = cv2.imread(caminho_img)\n",
    "    img = cv2.resize(img, (IMG_SIZE, IMG_SIZE))\n",
    "    img = np.expand_dims(img / 255.0, axis=0)\n",
    "    pred = modelo.predict(img)\n",
    "    classe = le.inverse_transform([np.argmax(pred)])\n",
    "    return classe[0]\n"
   ]
  },
  {
   "cell_type": "markdown",
   "id": "9b45c5ab",
   "metadata": {},
   "source": [
    "## Visualização das métricas com gráficos"
   ]
  },
  {
   "cell_type": "code",
   "execution_count": 10,
   "id": "393700bd",
   "metadata": {},
   "outputs": [
    {
     "data": {
      "image/png": "[encoded data removed]",
      "text/plain": [
       "<Figure size 640x480 with 1 Axes>"
      ]
     },
     "metadata": {},
     "output_type": "display_data"
    }
   ],
   "source": [
    "plt.plot(hist.history['accuracy'], label='Acurácia treino')\n",
    "plt.plot(hist.history['val_accuracy'], label='Acurácia validação')\n",
    "plt.xlabel('Épocas')\n",
    "plt.ylabel('Acurácia')\n",
    "plt.legend()\n",
    "plt.title('Evolução da acurácia')\n",
    "plt.show()\n"
   ]
  },
  {
   "cell_type": "code",
   "execution_count": 11,
   "id": "3820f42f",
   "metadata": {},
   "outputs": [
    {
     "name": "stdout",
     "output_type": "stream",
     "text": [
      "\u001b[1m4/4\u001b[0m \u001b[32m━━━━━━━━━━━━━━━━━━━━\u001b[0m\u001b[37m\u001b[0m \u001b[1m0s\u001b[0m 44ms/step\n"
     ]
    }
   ],
   "source": [
    "y_pred = modelo.predict(X_test)\n",
    "y_pred_classes = np.argmax(y_pred, axis=1)\n",
    "y_true = np.argmax(y_test, axis=1)\n"
   ]
  },
  {
   "cell_type": "markdown",
   "id": "ea79ddd2-7dda-414c-9967-cac659ea7c5f",
   "metadata": {},
   "source": [
    "## Nova Estrutura CNN"
   ]
  },
  {
   "cell_type": "code",
   "execution_count": 21,
   "id": "30ccba1e-088e-4af2-bc13-0c5b6a9934fb",
   "metadata": {},
   "outputs": [],
   "source": [
    "from tensorflow.keras.layers import Dropout, BatchNormalization\n"
   ]
  },
  {
   "cell_type": "code",
   "execution_count": 22,
   "id": "bae15419-e0aa-4662-a061-4704c69978eb",
   "metadata": {},
   "outputs": [],
   "source": [
    "modelo = Sequential()"
   ]
  },
  {
   "cell_type": "code",
   "execution_count": 23,
   "id": "63ced16f-a7e9-41e5-b51d-ffe32e6456fd",
   "metadata": {},
   "outputs": [],
   "source": [
    "modelo.add(Input(shape=(IMG_SIZE, IMG_SIZE, 3)))\n",
    "modelo.add(Conv2D(32, (5, 5), activation='relu', padding='same'))\n",
    "modelo.add(BatchNormalization())\n",
    "modelo.add(MaxPooling2D((2, 2)))\n",
    "modelo.add(Dropout(0.25))\n"
   ]
  },
  {
   "cell_type": "code",
   "execution_count": 24,
   "id": "d5006db7-2bd5-458d-a09d-e04c374928f3",
   "metadata": {},
   "outputs": [],
   "source": [
    "modelo.add(Conv2D(64, (3, 3), activation='relu', padding='same'))\n",
    "modelo.add(BatchNormalization())\n",
    "modelo.add(MaxPooling2D((2, 2)))\n",
    "modelo.add(Dropout(0.25))"
   ]
  },
  {
   "cell_type": "code",
   "execution_count": 25,
   "id": "a8257d91-3ad2-4288-9770-88959cf7daf8",
   "metadata": {},
   "outputs": [],
   "source": [
    "modelo.add(Conv2D(128, (3, 3), activation='relu', padding='same'))\n",
    "modelo.add(BatchNormalization())\n",
    "modelo.add(MaxPooling2D((2, 2)))\n",
    "modelo.add(Dropout(0.25))"
   ]
  },
  {
   "cell_type": "code",
   "execution_count": 26,
   "id": "85357d99-4441-443d-9317-d97384894e1d",
   "metadata": {},
   "outputs": [],
   "source": [
    "modelo.add(Flatten())\n",
    "modelo.add(Dense(128, activation='relu'))\n",
    "modelo.add(Dropout(0.5))"
   ]
  },
  {
   "cell_type": "code",
   "execution_count": 27,
   "id": "2e3cad56-2d86-4609-b412-8bb07f41ca2d",
   "metadata": {},
   "outputs": [],
   "source": [
    "modelo.add(Dense(y_categ.shape[1], activation='softmax'))"
   ]
  },
  {
   "cell_type": "code",
   "execution_count": 28,
   "id": "81d2cca4-262d-41c2-895c-5c40b71f4827",
   "metadata": {},
   "outputs": [],
   "source": [
    "modelo.compile(optimizer='adam', \n",
    "               loss='categorical_crossentropy', \n",
    "               metrics=['accuracy'])"
   ]
  },
  {
   "cell_type": "code",
   "execution_count": 29,
   "id": "cf71da5d-5b03-4649-9f2f-13018d3925ee",
   "metadata": {},
   "outputs": [
    {
     "name": "stdout",
     "output_type": "stream",
     "text": [
      "Epoch 1/20\n",
      "\u001b[1m13/13\u001b[0m \u001b[32m━━━━━━━━━━━━━━━━━━━━\u001b[0m\u001b[37m\u001b[0m \u001b[1m17s\u001b[0m 993ms/step - accuracy: 0.8752 - loss: 0.7375 - val_accuracy: 1.0000 - val_loss: 1.1803e-09\n",
      "Epoch 2/20\n",
      "\u001b[1m13/13\u001b[0m \u001b[32m━━━━━━━━━━━━━━━━━━━━\u001b[0m\u001b[37m\u001b[0m \u001b[1m12s\u001b[0m 911ms/step - accuracy: 0.9864 - loss: 1.1106 - val_accuracy: 0.0099 - val_loss: 23.3510\n",
      "Epoch 3/20\n",
      "\u001b[1m13/13\u001b[0m \u001b[32m━━━━━━━━━━━━━━━━━━━━\u001b[0m\u001b[37m\u001b[0m \u001b[1m12s\u001b[0m 901ms/step - accuracy: 0.9996 - loss: 0.1024 - val_accuracy: 0.0000e+00 - val_loss: 46.2612\n",
      "Epoch 4/20\n",
      "\u001b[1m13/13\u001b[0m \u001b[32m━━━━━━━━━━━━━━━━━━━━\u001b[0m\u001b[37m\u001b[0m \u001b[1m12s\u001b[0m 899ms/step - accuracy: 0.9974 - loss: 0.2288 - val_accuracy: 0.3465 - val_loss: 17.8217\n",
      "Epoch 5/20\n",
      "\u001b[1m13/13\u001b[0m \u001b[32m━━━━━━━━━━━━━━━━━━━━\u001b[0m\u001b[37m\u001b[0m \u001b[1m12s\u001b[0m 897ms/step - accuracy: 0.9939 - loss: 0.0663 - val_accuracy: 0.2376 - val_loss: 23.3420\n",
      "Epoch 6/20\n",
      "\u001b[1m13/13\u001b[0m \u001b[32m━━━━━━━━━━━━━━━━━━━━\u001b[0m\u001b[37m\u001b[0m \u001b[1m12s\u001b[0m 904ms/step - accuracy: 0.9959 - loss: 0.0238 - val_accuracy: 0.0693 - val_loss: 39.2288\n",
      "Epoch 7/20\n",
      "\u001b[1m13/13\u001b[0m \u001b[32m━━━━━━━━━━━━━━━━━━━━\u001b[0m\u001b[37m\u001b[0m \u001b[1m12s\u001b[0m 894ms/step - accuracy: 0.9995 - loss: 0.0049 - val_accuracy: 0.0396 - val_loss: 49.4350\n",
      "Epoch 8/20\n",
      "\u001b[1m13/13\u001b[0m \u001b[32m━━━━━━━━━━━━━━━━━━━━\u001b[0m\u001b[37m\u001b[0m \u001b[1m12s\u001b[0m 901ms/step - accuracy: 0.9985 - loss: 0.0093 - val_accuracy: 0.0396 - val_loss: 61.7349\n",
      "Epoch 9/20\n",
      "\u001b[1m13/13\u001b[0m \u001b[32m━━━━━━━━━━━━━━━━━━━━\u001b[0m\u001b[37m\u001b[0m \u001b[1m12s\u001b[0m 895ms/step - accuracy: 0.9927 - loss: 0.0380 - val_accuracy: 0.0099 - val_loss: 65.3746\n",
      "Epoch 10/20\n",
      "\u001b[1m13/13\u001b[0m \u001b[32m━━━━━━━━━━━━━━━━━━━━\u001b[0m\u001b[37m\u001b[0m \u001b[1m12s\u001b[0m 897ms/step - accuracy: 0.9930 - loss: 0.0610 - val_accuracy: 0.0099 - val_loss: 61.0791\n",
      "Epoch 11/20\n",
      "\u001b[1m13/13\u001b[0m \u001b[32m━━━━━━━━━━━━━━━━━━━━\u001b[0m\u001b[37m\u001b[0m \u001b[1m12s\u001b[0m 915ms/step - accuracy: 1.0000 - loss: 5.4520e-04 - val_accuracy: 0.0099 - val_loss: 53.5844\n",
      "Epoch 12/20\n",
      "\u001b[1m13/13\u001b[0m \u001b[32m━━━━━━━━━━━━━━━━━━━━\u001b[0m\u001b[37m\u001b[0m \u001b[1m12s\u001b[0m 896ms/step - accuracy: 0.9961 - loss: 0.0454 - val_accuracy: 0.0198 - val_loss: 46.4761\n",
      "Epoch 13/20\n",
      "\u001b[1m13/13\u001b[0m \u001b[32m━━━━━━━━━━━━━━━━━━━━\u001b[0m\u001b[37m\u001b[0m \u001b[1m12s\u001b[0m 896ms/step - accuracy: 0.9974 - loss: 0.0105 - val_accuracy: 0.0594 - val_loss: 39.3785\n",
      "Epoch 14/20\n",
      "\u001b[1m13/13\u001b[0m \u001b[32m━━━━━━━━━━━━━━━━━━━━\u001b[0m\u001b[37m\u001b[0m \u001b[1m12s\u001b[0m 899ms/step - accuracy: 1.0000 - loss: 0.0015 - val_accuracy: 0.1287 - val_loss: 33.0491\n",
      "Epoch 15/20\n",
      "\u001b[1m13/13\u001b[0m \u001b[32m━━━━━━━━━━━━━━━━━━━━\u001b[0m\u001b[37m\u001b[0m \u001b[1m12s\u001b[0m 896ms/step - accuracy: 1.0000 - loss: 5.9668e-04 - val_accuracy: 0.3069 - val_loss: 26.7249\n",
      "Epoch 16/20\n",
      "\u001b[1m13/13\u001b[0m \u001b[32m━━━━━━━━━━━━━━━━━━━━\u001b[0m\u001b[37m\u001b[0m \u001b[1m12s\u001b[0m 901ms/step - accuracy: 1.0000 - loss: 4.8924e-04 - val_accuracy: 0.3861 - val_loss: 22.6933\n",
      "Epoch 17/20\n",
      "\u001b[1m13/13\u001b[0m \u001b[32m━━━━━━━━━━━━━━━━━━━━\u001b[0m\u001b[37m\u001b[0m \u001b[1m12s\u001b[0m 936ms/step - accuracy: 1.0000 - loss: 1.1674e-04 - val_accuracy: 0.4752 - val_loss: 20.3919\n",
      "Epoch 18/20\n",
      "\u001b[1m13/13\u001b[0m \u001b[32m━━━━━━━━━━━━━━━━━━━━\u001b[0m\u001b[37m\u001b[0m \u001b[1m12s\u001b[0m 913ms/step - accuracy: 0.9988 - loss: 9.8847e-04 - val_accuracy: 0.4851 - val_loss: 21.0021\n",
      "Epoch 19/20\n",
      "\u001b[1m13/13\u001b[0m \u001b[32m━━━━━━━━━━━━━━━━━━━━\u001b[0m\u001b[37m\u001b[0m \u001b[1m12s\u001b[0m 894ms/step - accuracy: 1.0000 - loss: 2.9783e-04 - val_accuracy: 0.4950 - val_loss: 20.6376\n",
      "Epoch 20/20\n",
      "\u001b[1m13/13\u001b[0m \u001b[32m━━━━━━━━━━━━━━━━━━━━\u001b[0m\u001b[37m\u001b[0m \u001b[1m12s\u001b[0m 914ms/step - accuracy: 0.9968 - loss: 0.0034 - val_accuracy: 0.5347 - val_loss: 20.2025\n"
     ]
    }
   ],
   "source": [
    "hist = modelo.fit(X_train, y_train, epochs=20, validation_data=(X_test, y_test))"
   ]
  },
  {
   "cell_type": "markdown",
   "id": "c61c78d0-71da-4735-a0e0-9aa6e712e821",
   "metadata": {},
   "source": [
    "## Aprimoramento do Dados\n"
   ]
  },
  {
   "cell_type": "code",
   "execution_count": 30,
   "id": "0ba3f0ab-b4eb-4bb7-84d5-3754450f21fb",
   "metadata": {},
   "outputs": [],
   "source": [
    "from tensorflow.keras.preprocessing.image import ImageDataGenerator"
   ]
  },
  {
   "cell_type": "markdown",
   "id": "b74f3c2e-edd7-4e8c-8dd4-16759a15bef1",
   "metadata": {},
   "source": [
    "## Criação do gerador de dados com aumento"
   ]
  },
  {
   "cell_type": "code",
   "execution_count": 31,
   "id": "e2e36c0f-5912-467c-9c50-423ca1eac396",
   "metadata": {},
   "outputs": [],
   "source": [
    "data_gen = ImageDataGenerator(\n",
    "    rotation_range=20,      # Rotação de até 20 graus\n",
    "    width_shift_range=0.1,  # Deslocamento horizontal\n",
    "    height_shift_range=0.1, # Deslocamento vertical\n",
    "    shear_range=0.1,        # Distorção\n",
    "    zoom_range=0.1,         # Zoom\n",
    "    horizontal_flip=True,   # Espelhamento horizontal\n",
    "    fill_mode='nearest'     # Preenchimento dos pixels após transformação\n",
    ")\n"
   ]
  },
  {
   "cell_type": "code",
   "execution_count": 32,
   "id": "b195400f-2027-4e91-adad-2dbec9df9252",
   "metadata": {},
   "outputs": [],
   "source": [
    "train_data_gen = data_gen.flow(X_train, y_train, batch_size=32)"
   ]
  },
  {
   "cell_type": "markdown",
   "id": "dbcd5f6a-fbef-4a33-a26d-054a664cdab7",
   "metadata": {},
   "source": [
    "## Balanceamento de Classes"
   ]
  },
  {
   "cell_type": "code",
   "execution_count": 33,
   "id": "d7968d59-ecd7-4f5f-be60-30e9cdc374f6",
   "metadata": {},
   "outputs": [
    {
     "name": "stdout",
     "output_type": "stream",
     "text": [
      "Distribuição das classes antes do balanceamento:\n",
      "{0: 500, 1: 1}\n"
     ]
    }
   ],
   "source": [
    "unique, counts = np.unique(y_encoded, return_counts=True)\n",
    "print(\"Distribuição das classes antes do balanceamento:\")\n",
    "print(dict(zip(unique, counts)))"
   ]
  },
  {
   "cell_type": "code",
   "execution_count": 34,
   "id": "b8df058c-eef2-4cba-8539-debec0110ba6",
   "metadata": {},
   "outputs": [
    {
     "name": "stdout",
     "output_type": "stream",
     "text": [
      "\n",
      "Pesos para balanceamento:\n",
      "{0: 1.0, 1: 500.0}\n"
     ]
    }
   ],
   "source": [
    "# Calculando pesos para balancear as classes\n",
    "class_weights = {i: max(counts) / count for i, count in enumerate(counts)}\n",
    "print(\"\\nPesos para balanceamento:\")\n",
    "print(class_weights)"
   ]
  },
  {
   "cell_type": "code",
   "execution_count": 35,
   "id": "a1571e6f-3e44-451f-8bfd-72caf5404845",
   "metadata": {},
   "outputs": [
    {
     "name": "stderr",
     "output_type": "stream",
     "text": [
      "/home/gustavson-barros/anaconda3/lib/python3.11/site-packages/keras/src/trainers/data_adapters/py_dataset_adapter.py:121: UserWarning: Your `PyDataset` class should call `super().__init__(**kwargs)` in its constructor. `**kwargs` can include `workers`, `use_multiprocessing`, `max_queue_size`. Do not pass these arguments to `fit()`, as they will be ignored.\n",
      "  self._warn_if_super_not_called()\n"
     ]
    },
    {
     "name": "stdout",
     "output_type": "stream",
     "text": [
      "Epoch 1/20\n",
      "\u001b[1m13/13\u001b[0m \u001b[32m━━━━━━━━━━━━━━━━━━━━\u001b[0m\u001b[37m\u001b[0m \u001b[1m19s\u001b[0m 1s/step - accuracy: 0.9467 - loss: 8.1945 - val_accuracy: 1.0000 - val_loss: 4.8392e-08\n",
      "Epoch 2/20\n",
      "\u001b[1m13/13\u001b[0m \u001b[32m━━━━━━━━━━━━━━━━━━━━\u001b[0m\u001b[37m\u001b[0m \u001b[1m12s\u001b[0m 947ms/step - accuracy: 0.9944 - loss: 92.2521 - val_accuracy: 0.9901 - val_loss: 0.0220\n",
      "Epoch 3/20\n",
      "\u001b[1m13/13\u001b[0m \u001b[32m━━━━━━━━━━━━━━━━━━━━\u001b[0m\u001b[37m\u001b[0m \u001b[1m12s\u001b[0m 930ms/step - accuracy: 0.9737 - loss: 22.5768 - val_accuracy: 1.0000 - val_loss: 0.0000e+00\n",
      "Epoch 4/20\n",
      "\u001b[1m13/13\u001b[0m \u001b[32m━━━━━━━━━━━━━━━━━━━━\u001b[0m\u001b[37m\u001b[0m \u001b[1m12s\u001b[0m 933ms/step - accuracy: 0.9628 - loss: 4.4345 - val_accuracy: 1.0000 - val_loss: 0.0000e+00\n",
      "Epoch 5/20\n",
      "\u001b[1m13/13\u001b[0m \u001b[32m━━━━━━━━━━━━━━━━━━━━\u001b[0m\u001b[37m\u001b[0m \u001b[1m12s\u001b[0m 948ms/step - accuracy: 0.9734 - loss: 275.4197 - val_accuracy: 1.0000 - val_loss: 0.0000e+00\n",
      "Epoch 6/20\n",
      "\u001b[1m13/13\u001b[0m \u001b[32m━━━━━━━━━━━━━━━━━━━━\u001b[0m\u001b[37m\u001b[0m \u001b[1m12s\u001b[0m 936ms/step - accuracy: 0.9588 - loss: 251.9799 - val_accuracy: 1.0000 - val_loss: 0.0000e+00\n",
      "Epoch 7/20\n",
      "\u001b[1m13/13\u001b[0m \u001b[32m━━━━━━━━━━━━━━━━━━━━\u001b[0m\u001b[37m\u001b[0m \u001b[1m13s\u001b[0m 968ms/step - accuracy: 0.9719 - loss: 500.4285 - val_accuracy: 1.0000 - val_loss: 0.0000e+00\n",
      "Epoch 8/20\n",
      "\u001b[1m13/13\u001b[0m \u001b[32m━━━━━━━━━━━━━━━━━━━━\u001b[0m\u001b[37m\u001b[0m \u001b[1m12s\u001b[0m 950ms/step - accuracy: 0.9122 - loss: 1458.1926 - val_accuracy: 1.0000 - val_loss: 0.0000e+00\n",
      "Epoch 9/20\n",
      "\u001b[1m13/13\u001b[0m \u001b[32m━━━━━━━━━━━━━━━━━━━━\u001b[0m\u001b[37m\u001b[0m \u001b[1m12s\u001b[0m 948ms/step - accuracy: 0.9732 - loss: 135.3262 - val_accuracy: 1.0000 - val_loss: 0.0000e+00\n",
      "Epoch 10/20\n",
      "\u001b[1m13/13\u001b[0m \u001b[32m━━━━━━━━━━━━━━━━━━━━\u001b[0m\u001b[37m\u001b[0m \u001b[1m12s\u001b[0m 932ms/step - accuracy: 0.9645 - loss: 4.8941 - val_accuracy: 1.0000 - val_loss: 0.0000e+00\n",
      "Epoch 11/20\n",
      "\u001b[1m13/13\u001b[0m \u001b[32m━━━━━━━━━━━━━━━━━━━━\u001b[0m\u001b[37m\u001b[0m \u001b[1m12s\u001b[0m 915ms/step - accuracy: 0.9692 - loss: 299.7450 - val_accuracy: 1.0000 - val_loss: 0.0000e+00\n",
      "Epoch 12/20\n",
      "\u001b[1m13/13\u001b[0m \u001b[32m━━━━━━━━━━━━━━━━━━━━\u001b[0m\u001b[37m\u001b[0m \u001b[1m12s\u001b[0m 954ms/step - accuracy: 0.9725 - loss: 82.2353 - val_accuracy: 0.9901 - val_loss: 0.0469\n",
      "Epoch 13/20\n",
      "\u001b[1m13/13\u001b[0m \u001b[32m━━━━━━━━━━━━━━━━━━━━\u001b[0m\u001b[37m\u001b[0m \u001b[1m12s\u001b[0m 949ms/step - accuracy: 0.9078 - loss: 8.3088 - val_accuracy: 1.0000 - val_loss: 0.0000e+00\n",
      "Epoch 14/20\n",
      "\u001b[1m13/13\u001b[0m \u001b[32m━━━━━━━━━━━━━━━━━━━━\u001b[0m\u001b[37m\u001b[0m \u001b[1m12s\u001b[0m 926ms/step - accuracy: 0.9704 - loss: 683.5164 - val_accuracy: 1.0000 - val_loss: 0.0000e+00\n",
      "Epoch 15/20\n",
      "\u001b[1m13/13\u001b[0m \u001b[32m━━━━━━━━━━━━━━━━━━━━\u001b[0m\u001b[37m\u001b[0m \u001b[1m13s\u001b[0m 971ms/step - accuracy: 0.9757 - loss: 4.0913 - val_accuracy: 1.0000 - val_loss: 0.0000e+00\n",
      "Epoch 16/20\n",
      "\u001b[1m13/13\u001b[0m \u001b[32m━━━━━━━━━━━━━━━━━━━━\u001b[0m\u001b[37m\u001b[0m \u001b[1m12s\u001b[0m 978ms/step - accuracy: 0.9558 - loss: 1384.8688 - val_accuracy: 1.0000 - val_loss: 0.0000e+00\n",
      "Epoch 17/20\n",
      "\u001b[1m13/13\u001b[0m \u001b[32m━━━━━━━━━━━━━━━━━━━━\u001b[0m\u001b[37m\u001b[0m \u001b[1m12s\u001b[0m 944ms/step - accuracy: 0.9415 - loss: 11.1363 - val_accuracy: 1.0000 - val_loss: 0.0000e+00\n",
      "Epoch 18/20\n",
      "\u001b[1m13/13\u001b[0m \u001b[32m━━━━━━━━━━━━━━━━━━━━\u001b[0m\u001b[37m\u001b[0m \u001b[1m12s\u001b[0m 932ms/step - accuracy: 0.9437 - loss: 135.9733 - val_accuracy: 1.0000 - val_loss: 0.0000e+00\n",
      "Epoch 19/20\n",
      "\u001b[1m13/13\u001b[0m \u001b[32m━━━━━━━━━━━━━━━━━━━━\u001b[0m\u001b[37m\u001b[0m \u001b[1m13s\u001b[0m 949ms/step - accuracy: 0.9221 - loss: 92.4925 - val_accuracy: 0.9703 - val_loss: 6.3833\n",
      "Epoch 20/20\n",
      "\u001b[1m13/13\u001b[0m \u001b[32m━━━━━━━━━━━━━━━━━━━━\u001b[0m\u001b[37m\u001b[0m \u001b[1m12s\u001b[0m 977ms/step - accuracy: 0.8980 - loss: 32.6863 - val_accuracy: 1.0000 - val_loss: 0.0000e+00\n"
     ]
    }
   ],
   "source": [
    "hist = modelo.fit(\n",
    "    train_data_gen,\n",
    "    epochs=20,\n",
    "    validation_data=(X_test, y_test),\n",
    "    class_weight=class_weights\n",
    ")\n"
   ]
  },
  {
   "cell_type": "markdown",
   "id": "5f9c2c4b-2031-4dd9-8b87-89b4f9dd5985",
   "metadata": {},
   "source": [
    "## Matriz de Confusão"
   ]
  },
  {
   "cell_type": "code",
   "execution_count": 58,
   "id": "6af54570-5a3d-4d47-8919-f12b6687668b",
   "metadata": {},
   "outputs": [],
   "source": [
    "from sklearn.metrics import confusion_matrix, classification_report\n",
    "import seaborn as sns\n",
    "import numpy as np"
   ]
  },
  {
   "cell_type": "code",
   "execution_count": 59,
   "id": "7f77b6a2-08c4-49ad-9192-b5e36e0a3ba7",
   "metadata": {},
   "outputs": [
    {
     "name": "stdout",
     "output_type": "stream",
     "text": [
      "\u001b[1m4/4\u001b[0m \u001b[32m━━━━━━━━━━━━━━━━━━━━\u001b[0m\u001b[37m\u001b[0m \u001b[1m0s\u001b[0m 62ms/step \n"
     ]
    }
   ],
   "source": [
    "y_pred = modelo.predict(X_test)\n",
    "y_pred_classes = np.argmax(y_pred, axis=1)\n",
    "y_true = np.argmax(y_test, axis=1)"
   ]
  },
  {
   "cell_type": "code",
   "execution_count": 60,
   "id": "64592827-dcd4-4e9a-9747-a8a910b56b02",
   "metadata": {},
   "outputs": [],
   "source": [
    "labels = [0, 1, 2, 3, 4, 5, 6, 7, 8, 9]\n",
    "conf_matrix = confusion_matrix(y_true, y_pred_classes, labels=labels)\n"
   ]
  },
  {
   "cell_type": "code",
   "execution_count": 61,
   "id": "7879c962-f5f2-41c6-819e-fdd6f38de736",
   "metadata": {},
   "outputs": [
    {
     "data": {
      "image/png": "[encoded data removed]",
      "text/plain": [
       "<Figure size 800x600 with 2 Axes>"
      ]
     },
     "metadata": {},
     "output_type": "display_data"
    }
   ],
   "source": [
    "plt.figure(figsize=(8, 6))\n",
    "sns.heatmap(conf_matrix, annot=True, fmt=\"d\", cmap=\"Blues\")\n",
    "plt.title(\"Matriz de Confusão\")\n",
    "plt.xlabel(\"Classe Prevista\")\n",
    "plt.ylabel(\"Classe Verdadeira\")\n",
    "plt.show()\n"
   ]
  },
  {
   "cell_type": "code",
   "execution_count": 62,
   "id": "9860b782-7c4b-4541-85cb-cf65e1db1174",
   "metadata": {},
   "outputs": [
    {
     "name": "stdout",
     "output_type": "stream",
     "text": [
      "Relatório de Classificação:\n",
      "              precision    recall  f1-score   support\n",
      "\n",
      "         bkl       1.00      1.00      1.00       101\n",
      "\n",
      "    accuracy                           1.00       101\n",
      "   macro avg       1.00      1.00      1.00       101\n",
      "weighted avg       1.00      1.00      1.00       101\n",
      "\n"
     ]
    },
    {
     "name": "stderr",
     "output_type": "stream",
     "text": [
      "/home/gustavson-barros/anaconda3/lib/python3.11/site-packages/sklearn/metrics/_classification.py:2687: UserWarning: labels size, 1, does not match size of target_names, 2\n",
      "  warnings.warn(\n"
     ]
    }
   ],
   "source": [
    "all_classes = sorted(set(y_true).union(set(y_pred_classes)))\n",
    "\n",
    "print(\"Relatório de Classificação:\")\n",
    "print(classification_report(y_true, y_pred_classes, labels=all_classes, target_names=le.classes_))\n",
    "\n"
   ]
  },
  {
   "cell_type": "markdown",
   "id": "a004127e-f9f5-4769-b819-36a12eaa64d0",
   "metadata": {},
   "source": [
    "## Melhoria da Arquitetura da CNN:\n",
    "\n",
    "    Adicionar mais camadas convolucionais e de pooling.\n",
    "\n",
    "    Utilizar técnicas como Dropout para evitar overfitting.\n",
    "\n",
    "Aprimoramento dos Dados:\n",
    "\n",
    "    Aumentar a quantidade de dados (Data Augmentation) para melhorar a generalização.\n",
    "\n",
    "    Balancear as classes para evitar viés no modelo.\n",
    "\n",
    "Avaliação do Modelo:\n",
    "\n",
    "    Implementar uma matriz de confusão para visualizar a precisão por classe.\n",
    "\n",
    "    Calcular métricas como precisão, recall e F1-score.\n",
    "\n",
    "Salvamento e Carregamento do Modelo:\n",
    "\n",
    "    Implementar um recurso para salvar o modelo treinado.\n",
    "\n",
    "    Adicionar uma função para carregar e usar o modelo salvo para novas previsões.\n",
    "\n",
    "Interface Gráfica:\n",
    "\n",
    "    Desenvolver uma interface simples para carregar uma imagem e obter a previsão.\n",
    "\n",
    "Relatórios e Visualizações:\n",
    "\n",
    "    Criar gráficos mais detalhados, como a evolução da perda durante o treinamento.\n",
    "\n",
    "    Visualizar algumas previsões com as imagens correspondentes."
   ]
  }
 ],
 "metadata": {
  "kernelspec": {
   "display_name": "Python 3 (ipykernel)",
   "language": "python",
   "name": "python3"
  },
  "language_info": {
   "codemirror_mode": {
    "name": "ipython",
    "version": 3
   },
   "file_extension": ".py",
   "mimetype": "text/x-python",
   "name": "python",
   "nbconvert_exporter": "python",
   "pygments_lexer": "ipython3",
   "version": "3.11.11"
  }
 },
 "nbformat": 4,
 "nbformat_minor": 5
}
